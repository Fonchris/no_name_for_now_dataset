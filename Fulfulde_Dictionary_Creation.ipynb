{
  "nbformat": 4,
  "nbformat_minor": 0,
  "metadata": {
    "colab": {
      "provenance": [],
      "authorship_tag": "ABX9TyOJHP2MqWmrWbZcbkjfibBL",
      "include_colab_link": true
    },
    "kernelspec": {
      "name": "python3",
      "display_name": "Python 3"
    },
    "language_info": {
      "name": "python"
    }
  },
  "cells": [
    {
      "cell_type": "markdown",
      "metadata": {
        "id": "view-in-github",
        "colab_type": "text"
      },
      "source": [
        "<a href=\"https://colab.research.google.com/github/Nde-Dilan/no_name_for_now_dataset/blob/main/Fulfulde_Dictionary_Creation.ipynb\" target=\"_parent\"><img src=\"https://colab.research.google.com/assets/colab-badge.svg\" alt=\"Open In Colab\"/></a>"
      ]
    },
    {
      "cell_type": "markdown",
      "source": [
        "# 1. Install the dependencies"
      ],
      "metadata": {
        "id": "f6Rh1YuibKDA"
      }
    },
    {
      "cell_type": "code",
      "source": [
        "!pip install pandas deepl"
      ],
      "metadata": {
        "id": "EadEDiuxbOsG"
      },
      "execution_count": null,
      "outputs": []
    },
    {
      "cell_type": "markdown",
      "source": [
        "# 2. Import and configure logging"
      ],
      "metadata": {
        "id": "euEGNtutbTTc"
      }
    },
    {
      "cell_type": "code",
      "source": [
        "import pandas as pd\n",
        "import re\n",
        "import os\n",
        "from urllib.request import urlopen\n",
        "from urllib.error import URLError, HTTPError\n",
        "import logging\n",
        "\n",
        "# Set up logging\n",
        "logging.basicConfig(\n",
        "    level=logging.INFO,\n",
        "    format='%(asctime)s - %(levelname)s - %(message)s',\n",
        "    handlers=[\n",
        "        logging.FileHandler(\"fulfulde_extraction.log\"),\n",
        "        logging.StreamHandler()\n",
        "    ]\n",
        ")\n"
      ],
      "metadata": {
        "id": "u_FMsQv-HDt_"
      },
      "execution_count": null,
      "outputs": []
    },
    {
      "cell_type": "markdown",
      "source": [
        "# 3. Method to download CSV data from hugginface"
      ],
      "metadata": {
        "id": "iJ5kDZk-bYnN"
      }
    },
    {
      "cell_type": "code",
      "source": [
        "def download_csv(url):\n",
        "    \"\"\"Download CSV data from URL and return as string\"\"\"\n",
        "    logging.info(f\"Downloading data from {url}\")\n",
        "    try:\n",
        "        with urlopen(url) as response:\n",
        "            csv_data = response.read().decode('utf-8')\n",
        "        logging.info(\"Download successful\")\n",
        "        return csv_data\n",
        "    except (URLError, HTTPError) as e:\n",
        "        logging.error(f\"Failed to download data: {e}\")\n",
        "        raise"
      ],
      "metadata": {
        "id": "yvL9qpP2HIwG"
      },
      "execution_count": null,
      "outputs": []
    },
    {
      "cell_type": "markdown",
      "source": [
        "# 4. Extraction of the translations\n",
        "\n",
        "Having the csv file, we can drop the useless columns like path and id..."
      ],
      "metadata": {
        "id": "EYPNTYfpbg8K"
      }
    },
    {
      "cell_type": "code",
      "source": [
        "\n",
        "def extract_translations(csv_data):\n",
        "    \"\"\"Extract Fulfulde words and French translations from CSV data\"\"\"\n",
        "    logging.info(\"Parsing CSV data\")\n",
        "\n",
        "    # Read CSV with semicolon delimiter, keeping only necessary columns\n",
        "    try:\n",
        "        # First split by newlines to handle the data manually\n",
        "        lines = csv_data.strip().split('\\n')\n",
        "\n",
        "        # Create DataFrame with properly parsed columns\n",
        "        data = []\n",
        "        for line in lines:\n",
        "            # Split by semicolon\n",
        "            parts = line.split(';')\n",
        "            if len(parts) >= 3:  # Ensure we have at least id, fulfulde, and filename\n",
        "                row = {\n",
        "                    'id': parts[0],\n",
        "                    'fulfulde': parts[1],\n",
        "                    'filename': parts[3]\n",
        "                }\n",
        "                data.append(row)\n",
        "\n",
        "        df = pd.DataFrame(data)\n",
        "        logging.info(f\"Successfully parsed CSV with {len(df)} entries\")\n",
        "\n",
        "        # Create output directory if it doesn't exist\n",
        "        os.makedirs('output', exist_ok=True)\n",
        "\n",
        "        # Save raw parsed data\n",
        "        df.to_excel('output/1_raw_parsed_data.xlsx', index=False)\n",
        "        logging.info(\"Saved raw parsed data to output/1_raw_parsed_data.xlsx\")\n",
        "\n",
        "        return df\n",
        "    except Exception as e:\n",
        "        logging.error(f\"Error parsing CSV data: {e}\")\n",
        "        raise"
      ],
      "metadata": {
        "id": "tfAO8T6LHLup"
      },
      "execution_count": null,
      "outputs": []
    },
    {
      "cell_type": "markdown",
      "source": [
        "# 5. Cleaning the data and data transformation\n",
        "\n",
        "Remove the special characters where we don't need them, dérive the translation from the name of the audio file and construct the french corpus alligning with the fulfulde one."
      ],
      "metadata": {
        "id": "JYyj2NlvcBP9"
      }
    },
    {
      "cell_type": "code",
      "source": [
        "\n",
        "def clean_and_transform(df):\n",
        "    \"\"\"Clean and transform the data to extract French translations\"\"\"\n",
        "    logging.info(\"Cleaning and transforming data\")\n",
        "\n",
        "    try:\n",
        "        # Extract French word from filename using regex\n",
        "        # Pattern to match: number-FrenchWord.extension\n",
        "        df['french'] = df['filename'].apply(\n",
        "            lambda x: re.search(r'(\\d+)-([^.]+)\\.(aac|wav|mp3|ogg|flac)', x)\n",
        "        ).apply(\n",
        "            lambda match: match.group(2) if match else None\n",
        "        )\n",
        "\n",
        "        # Save data after extraction\n",
        "        df_with_french = df[['fulfulde', 'french']].copy()\n",
        "        df_with_french.to_excel('output/2_extracted_translations.xlsx', index=False)\n",
        "        logging.info(\"Saved extracted translations to output/2_extracted_translations.xlsx\")\n",
        "\n",
        "        # Clean up French words (replace underscores with spaces, etc.)\n",
        "        df_with_french['french'] = df_with_french['french'].apply(\n",
        "            lambda x: x.replace('_', ' ') if isinstance(x, str) else x\n",
        "        )\n",
        "\n",
        "        # Clean up Fulfulde words if needed\n",
        "        # Add any specific cleaning rules here\n",
        "\n",
        "        # Remove any rows with missing values\n",
        "        df_clean = df_with_french.dropna()\n",
        "        logging.info(f\"After cleaning, {len(df_clean)} entries remain\")\n",
        "\n",
        "        # Save final cleaned data\n",
        "        df_clean.to_excel('output/3_final_fulfulde_french_translations.xlsx', index=False)\n",
        "        logging.info(\"Saved final cleaned data to output/3_final_fulfulde_french_translations.xlsx\")\n",
        "\n",
        "        # Also save as CSV for easy use\n",
        "        df_clean.to_csv('output/fulfulde_french_translations.csv', index=False)\n",
        "        logging.info(\"Saved final data as CSV to output/fulfulde_french_translations.csv\")\n",
        "\n",
        "        return df_clean\n",
        "    except Exception as e:\n",
        "        logging.error(f\"Error cleaning and transforming data: {e}\")\n",
        "        raise\n"
      ],
      "metadata": {
        "id": "xMY1bSPkHQWE"
      },
      "execution_count": null,
      "outputs": []
    },
    {
      "cell_type": "markdown",
      "source": [
        "# 6. Main Entry Point\n",
        "\n",
        "Now we put all the piece together to form the system that will collect data for us."
      ],
      "metadata": {
        "id": "C9K4x_a4ciKN"
      }
    },
    {
      "cell_type": "code",
      "execution_count": null,
      "metadata": {
        "id": "IZZnD-hIGCMT"
      },
      "outputs": [],
      "source": [
        "def main():\n",
        "    \"\"\"Main function to run the extraction process\"\"\"\n",
        "    url = \"https://huggingface.co/datasets/BATBAINA/fulfulde-agri-asr/raw/main/Fulfulde-agri-asr.csv\"\n",
        "\n",
        "    try:\n",
        "        csv_data = download_csv(url)\n",
        "        df_raw = extract_translations(csv_data)\n",
        "        df_final = clean_and_transform(df_raw)\n",
        "\n",
        "        # Display a sample of the final data\n",
        "        logging.info(\"\\nSample of final translations:\")\n",
        "        logging.info(df_final.head(10))\n",
        "\n",
        "        logging.info(f\"\\nExtraction complete. Total of {len(df_final)} Fulfulde-French translations extracted.\")\n",
        "        return df_final\n",
        "    except Exception as e:\n",
        "        logging.error(f\"Process failed: {e}\")\n",
        "        return None"
      ]
    },
    {
      "cell_type": "markdown",
      "source": [
        "# Calling the main function and kicking on the workflow"
      ],
      "metadata": {
        "id": "AwJfiQmEc0mP"
      }
    },
    {
      "cell_type": "code",
      "source": [
        "main()"
      ],
      "metadata": {
        "id": "1x_RnJyIHVTB"
      },
      "execution_count": null,
      "outputs": []
    },
    {
      "cell_type": "markdown",
      "source": [
        "# 7. Translating French words into English"
      ],
      "metadata": {
        "id": "QTZTG74cN_HH"
      }
    },
    {
      "cell_type": "code",
      "source": [
        "import deepl\n",
        "import time\n",
        "import pandas as pd\n",
        "\n",
        "# Your DeepL API Key (replace with your actual API key)\n",
        "DEEPL_API_KEY = \"54743463-d3cc-49f6-9d83-c1adbd75e022:fx\"  # Get it from https://www.deepl.com/pro-api\n",
        "\n",
        "# Initialize DeepL Translator\n",
        "def get_translator(api_key):\n",
        "    \"\"\"Initialize and return DeepL translator with the given API key\"\"\"\n",
        "    try:\n",
        "        return deepl.Translator(api_key)\n",
        "    except Exception as e:\n",
        "        logging.error(f\"Failed to initialize DeepL translator: {e}\")\n",
        "        return None\n",
        "\n",
        "def translate_french_to_english(french_text, translator, retries=3):\n",
        "    \"\"\"Translate a French sentence into English using DeepL with retries.\"\"\"\n",
        "    if not french_text or not isinstance(french_text, str):\n",
        "        return \"\"\n",
        "\n",
        "    for attempt in range(retries):\n",
        "        try:\n",
        "            result = translator.translate_text(french_text, source_lang=\"FR\", target_lang=\"EN-US\")\n",
        "            return result.text  # Extract translated text\n",
        "        except Exception as e:\n",
        "            logging.warning(f\"Attempt {attempt + 1}: Error translating '{french_text}': {e}\")\n",
        "            time.sleep(1)  # Wait before retrying\n",
        "    return french_text  # Return original if translation fails\n",
        "\n",
        "def add_english_translations(input_file='output/fulfulde_french_translations.csv',\n",
        "                            output_file='output/fulfulde_french_english_translations.xlsx',\n",
        "                            batch_size=25):\n",
        "    \"\"\"\n",
        "    Add English translations to the Fulfulde-French dataset\n",
        "    Using batched processing to avoid API rate limits\n",
        "    \"\"\"\n",
        "    logging.info(\"Starting translation process from French to English\")\n",
        "\n",
        "    try:\n",
        "        # Read the CSV file with Fulfulde and French translations\n",
        "        df = pd.read_csv(input_file)\n",
        "        logging.info(f\"Loaded {len(df)} entries for translation\")\n",
        "\n",
        "        # Initialize the translator\n",
        "        translator = get_translator(DEEPL_API_KEY)\n",
        "        if not translator:\n",
        "            logging.error(\"Cannot proceed with translations: Translator initialization failed\")\n",
        "            return None\n",
        "\n",
        "        # Create output directory if needed\n",
        "        os.makedirs('output', exist_ok=True)\n",
        "\n",
        "        # Initialize English column\n",
        "        df['english'] = \"\"\n",
        "\n",
        "        # Process in batches to avoid API rate limits\n",
        "        total_rows = len(df)\n",
        "        for i in range(0, total_rows, batch_size):\n",
        "            batch_end = min(i + batch_size, total_rows)\n",
        "            logging.info(f\"Processing batch {i//batch_size + 1}: rows {i} to {batch_end}\")\n",
        "\n",
        "            # Process each row in the batch\n",
        "            for idx in range(i, batch_end):\n",
        "                french_text = df.loc[idx, 'french']\n",
        "                english_text = translate_french_to_english(french_text, translator)\n",
        "                df.loc[idx, 'english'] = english_text\n",
        "\n",
        "            # Save intermediate results after each batch\n",
        "            df.to_excel(output_file, index=False)\n",
        "            logging.info(f\"Saved progress after batch {i//batch_size + 1}\")\n",
        "\n",
        "            # Add a short delay between batches to respect API rate limits\n",
        "            if batch_end < total_rows:\n",
        "                time.sleep(2)\n",
        "\n",
        "        # Save final results\n",
        "        df.to_excel(output_file, index=False)\n",
        "        df.to_csv('output/fulfulde_french_english_translations.csv', index=False)\n",
        "        logging.info(f\"Translation complete. Output saved to {output_file}\")\n",
        "\n",
        "        return df\n",
        "\n",
        "    except Exception as e:\n",
        "        logging.error(f\"Error during translation process: {e}\")\n",
        "        return None"
      ],
      "metadata": {
        "id": "0qb-XgthIgeL"
      },
      "execution_count": null,
      "outputs": []
    },
    {
      "cell_type": "code",
      "source": [],
      "metadata": {
        "id": "Z6hpNBOOIhPk"
      },
      "execution_count": null,
      "outputs": []
    }
  ]
}